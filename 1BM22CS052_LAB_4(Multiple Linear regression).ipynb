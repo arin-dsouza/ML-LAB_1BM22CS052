{
  "nbformat": 4,
  "nbformat_minor": 0,
  "metadata": {
    "colab": {
      "provenance": [],
      "authorship_tag": "ABX9TyNAPUg71lWN7QJEJVnhV0JH",
      "include_colab_link": true
    },
    "kernelspec": {
      "name": "python3",
      "display_name": "Python 3"
    },
    "language_info": {
      "name": "python"
    }
  },
  "cells": [
    {
      "cell_type": "markdown",
      "metadata": {
        "id": "view-in-github",
        "colab_type": "text"
      },
      "source": [
        "<a href=\"https://colab.research.google.com/github/arin-dsouza/ML-LAB_1BM22CS052/blob/main/1BM22CS052_LAB_4(Multiple%20Linear%20regression).ipynb\" target=\"_parent\"><img src=\"https://colab.research.google.com/assets/colab-badge.svg\" alt=\"Open In Colab\"/></a>"
      ]
    },
    {
      "cell_type": "code",
      "execution_count": 1,
      "metadata": {
        "colab": {
          "base_uri": "https://localhost:8080/"
        },
        "id": "hG2q8LUGghgB",
        "outputId": "8b57f37d-e0f7-4177-ee67-0d447731e713"
      },
      "outputs": [
        {
          "output_type": "stream",
          "name": "stdout",
          "text": [
            "experience                    2\n",
            "test_score(out of 10)         1\n",
            "interview_score(out of 10)    0\n",
            "salary($)                     0\n",
            "dtype: int64\n",
            "Predicted Salary: $67,803.92\n",
            "Predicted Salary: $63,509.80\n"
          ]
        },
        {
          "output_type": "stream",
          "name": "stderr",
          "text": [
            "<ipython-input-1-637ea2d8eee4>:10: FutureWarning: A value is trying to be set on a copy of a DataFrame or Series through chained assignment using an inplace method.\n",
            "The behavior will change in pandas 3.0. This inplace method will never work because the intermediate object on which we are setting values always behaves as a copy.\n",
            "\n",
            "For example, when doing 'df[col].method(value, inplace=True)', try using 'df.method({col: value}, inplace=True)' or df[col] = df[col].method(value) instead, to perform the operation inplace on the original object.\n",
            "\n",
            "\n",
            "  df['test_score(out of 10)'].fillna(df['test_score(out of 10)'].median(), inplace=True)\n"
          ]
        }
      ],
      "source": [
        "#Hiring\n",
        "import pandas as pd\n",
        "import numpy as np\n",
        "from sklearn import linear_model\n",
        "\n",
        "# Load dataset\n",
        "df = pd.read_csv('/content/hiring.csv')\n",
        "print(df.isnull().sum())\n",
        "# Fill missing values\n",
        "df['test_score(out of 10)'].fillna(df['test_score(out of 10)'].median(), inplace=True)\n",
        "\n",
        "# Convert experience to string (for one-hot encoding)\n",
        "df['experience'] = df['experience'].astype(str)\n",
        "\n",
        "# Apply one-hot encoding to 'experience'\n",
        "df_encoded = pd.get_dummies(df, columns=['experience'], drop_first=True)\n",
        "\n",
        "# Separate features and target variable\n",
        "X = df_encoded.drop('salary($)', axis='columns')\n",
        "y = df_encoded['salary($)']\n",
        "\n",
        "# Train the regression model\n",
        "reg = linear_model.LinearRegression()\n",
        "reg.fit(X, y)\n",
        "\n",
        "# Function to predict salary\n",
        "def predict_salary(exp, test_score, interview_score):\n",
        "    # Convert experience to one-hot encoding\n",
        "    exp_col = f'experience_{exp}'\n",
        "    input_data = {col: 0 for col in X.columns}  # Initialize all columns to 0\n",
        "    if exp_col in input_data:\n",
        "        input_data[exp_col] = 1  # Set the correct experience column\n",
        "    input_data['test_score(out of 10)'] = test_score\n",
        "    input_data['interview_score(out of 10)'] = interview_score\n",
        "\n",
        "    # Convert to DataFrame and predict\n",
        "    input_df = pd.DataFrame([input_data])\n",
        "    predicted_salary = reg.predict(input_df)[0]\n",
        "\n",
        "    return f'Predicted Salary: ${predicted_salary:,.2f}'\n",
        "\n",
        "# Example Prediction\n",
        "print(predict_salary('twelve', 10, 10))\n",
        "print(predict_salary('two', 9, 6))"
      ]
    },
    {
      "cell_type": "code",
      "source": [
        "import pandas as pd\n",
        "import numpy as np\n",
        "from sklearn.linear_model import LinearRegression\n",
        "\n",
        "# Load dataset\n",
        "df = pd.read_csv('/content/1000_Companies.csv')\n",
        "\n",
        "# One-hot encode the 'State' column\n",
        "df_encoded = pd.get_dummies(df, columns=['State'], drop_first=True)\n",
        "\n",
        "# Separate features and target variable\n",
        "X = df_encoded.drop('Profit', axis='columns')  # Features: R&D Spend, Administration, Marketing Spend, State\n",
        "y = df_encoded['Profit']  # Target: Profit\n",
        "\n",
        "# Train linear regression model\n",
        "reg = LinearRegression()\n",
        "reg.fit(X, y)\n",
        "\n",
        "# Function to predict profit\n",
        "def predict_profit(rnd_spend, admin_spend, marketing_spend, state):\n",
        "    # Initialize input data dictionary with all zeros\n",
        "    input_data = {col: 0 for col in X.columns}\n",
        "\n",
        "    # Assign provided values\n",
        "    input_data['R&D Spend'] = rnd_spend\n",
        "    input_data['Administration'] = admin_spend\n",
        "    input_data['Marketing Spend'] = marketing_spend\n",
        "\n",
        "    # One-hot encode 'State'\n",
        "    state_col = f'State_{state}'\n",
        "    if state_col in input_data:\n",
        "        input_data[state_col] = 1\n",
        "\n",
        "    # Convert to DataFrame and predict\n",
        "    input_df = pd.DataFrame([input_data])\n",
        "    predicted_profit = reg.predict(input_df)[0]\n",
        "\n",
        "    return f'Predicted Profit: ${predicted_profit:,.2f}'\n",
        "\n",
        "# Example Prediction\n",
        "print(predict_profit(91694.48, 515841.3, 11931.24, 'Florida'))\n"
      ],
      "metadata": {
        "colab": {
          "base_uri": "https://localhost:8080/"
        },
        "id": "TidB3gO5gxul",
        "outputId": "195c9538-ef87-48af-87db-ddbcb3c5c84b"
      },
      "execution_count": 2,
      "outputs": [
        {
          "output_type": "stream",
          "name": "stdout",
          "text": [
            "Predicted Profit: $510,570.99\n"
          ]
        }
      ]
    },
    {
      "cell_type": "code",
      "source": [
        "#homeprices_Multiple_LR.csv\n",
        "import pandas as pd\n",
        "import numpy as np\n",
        "from sklearn import linear_model\n",
        "\n",
        "# Load dataset\n",
        "df = pd.read_csv('/content/homeprices_Multiple_LR.csv')\n",
        "\n",
        "# Handle missing values (Fill NA in 'bedrooms' with median)\n",
        "df['bedrooms'] = df['bedrooms'].fillna(df['bedrooms'].median())\n",
        "\n",
        "# Prepare training data\n",
        "X = df.drop('price', axis='columns')  # Features: Area, Bedrooms, Age\n",
        "y = df['price']  # Target: Price\n",
        "\n",
        "# Train linear regression model\n",
        "reg = linear_model.LinearRegression()\n",
        "reg.fit(X, y)\n",
        "\n",
        "# Display model coefficients\n",
        "print(f'Coefficients: {reg.coef_}')\n",
        "print(f'Intercept: {reg.intercept_}\\n')\n",
        "\n",
        "# Predict price of a home with given features\n",
        "area = 3000\n",
        "bedrooms = 3\n",
        "age = 40\n",
        "\n",
        "predicted_price = (\n",
        "    reg.coef_[0] * area +\n",
        "    reg.coef_[1] * bedrooms +\n",
        "    reg.coef_[2] * age +\n",
        "    reg.intercept_\n",
        ")\n",
        "\n",
        "print(f'Predicted price for a {area} sq. ft home, {bedrooms} bedrooms, {age} years old: ${predicted_price:,.2f}')\n"
      ],
      "metadata": {
        "colab": {
          "base_uri": "https://localhost:8080/"
        },
        "id": "gV5af8Konans",
        "outputId": "e3a33478-2e25-4264-d685-3ddb92868c4d"
      },
      "execution_count": 4,
      "outputs": [
        {
          "output_type": "stream",
          "name": "stdout",
          "text": [
            "Coefficients: [  112.06244194 23388.88007794 -3231.71790863]\n",
            "Intercept: 221323.00186540396\n",
            "\n",
            "Predicted price for a 3000 sq. ft home, 3 bedrooms, 40 years old: $498,408.25\n"
          ]
        }
      ]
    }
  ]
}